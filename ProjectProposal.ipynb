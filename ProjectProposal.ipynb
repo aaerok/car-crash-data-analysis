{
 "cells": [
  {
   "cell_type": "markdown",
   "metadata": {},
   "source": [
    "# COGS 108 - Project Proposal"
   ]
  },
  {
   "cell_type": "markdown",
   "metadata": {},
   "source": [
    "## Important\n",
    "\n",
    "- Make sure all group members (3-5 people) are listed in the group members section.\n",
    "- ONE, and only one, member of your group should upload this notebook to TritonED. \n",
    "- Each member of the group will receive the same grade on this assignment. \n",
    "- Keep the file name the same: submit the file 'ProjectProposal.ipynb'"
   ]
  },
  {
   "cell_type": "markdown",
   "metadata": {},
   "source": [
    "## Overview"
   ]
  },
  {
   "cell_type": "markdown",
   "metadata": {},
   "source": [
    "Read the project description and detailed instructions for this assignment in the 'ProjectOutline' document."
   ]
  },
  {
   "cell_type": "markdown",
   "metadata": {},
   "source": [
    "### Research Question\n",
    "\n",
    "What is your research question? (1-2 sentences)"
   ]
  },
  {
   "cell_type": "markdown",
   "metadata": {},
   "source": [
    "Our research question is about comparing the differences in relative safety in regards to vehicles between multiple locations with differences such as cities, suburban areas, or countryside. These can be further broken up into other traits such as population size, density, etc."
   ]
  },
  {
   "cell_type": "markdown",
   "metadata": {},
   "source": [
    "### Hypothesis\n",
    "\n",
    "What is your main hypothesis and predictions? (2-3 sentences)"
   ]
  },
  {
   "cell_type": "markdown",
   "metadata": {},
   "source": [
    "Our main hypothesis is that the more modern the area, the more likely it is for one to be involved in a car accident. By more modern, we mean more modern as in city area (e.g. NYC), larger population densities, etc. "
   ]
  },
  {
   "cell_type": "markdown",
   "metadata": {},
   "source": [
    "### Dataset(s)\n",
    "\n",
    "What data will you use to answer your question? Describe the dataset(s) in terms of number of observations, what kind of features it contains, etc. You must use at least one dataset containing at least approximately 1000 observations (if your data are smaller but you feel they are sufficient, email Prof. Voytek). You are welcome (and in fact recommended) to find multiple datasets! If you do so, describe each one, and briefly explain how you will combine them together. "
   ]
  },
  {
   "cell_type": "markdown",
   "metadata": {},
   "source": [
    "*Fill in your dataset information here*\n",
    "\n",
    "(Copy this information for each dataset)\n",
    "- Dataset Name: Motor Vehicle Crashes - Vehicle Information: Three Year Window\n",
    "- Link to the dataset: https://catalog.data.gov/dataset/motor-vehicle-crashes-vehicle-information-beginning-2009\n",
    "- Number of observations: 1,654,482\n",
    "\n",
    "This is a dataset of various crahses within NYS that were reported to the DMV. Each row contains various information such as date of crash, location, and reason(s) for crashing.\n",
    "\n",
    "- Dataset Name: cpd-crash-incidents\n",
    "- Link to the dataset: https://catalog.data.gov/dataset/crash-data-985bd/resource/fbdcb895-6d8f-4d4d-a7fe-08d68c38de27\n",
    "- Number of observations: 23185\n",
    "\n",
    "This is a dataset relating to crash data with the Town of Cary, North Carolina. Here, the data is about conrtibuting factors, fatalities, and weather conditions which can be useful in analyzing the safety of an area.\n",
    "\n",
    "These are just two examples of potential datasets that we can work with. As time permits, we may add more datasets to analyze that we can bring together. For now, we can analyze these datasets by tallying the different types of accidents under different conditions and then compare those tallies with each other. "
   ]
  },
  {
   "cell_type": "markdown",
   "metadata": {},
   "source": [
    "### Background and Prior Work\n",
    "\n",
    "Why is this question of interest, what background information led you to your hypothesis, and why is this important?\n",
    "\n",
    "Find some relevant prior work, and reference those sources. Even if you think you have a totally novel question, find the most similar prior work that you can and discuss how it relates to your project. \n",
    "\n",
    "References can be research publications, but they need not be. Blogs, github repositories, company websites, etc., are all viable references if they are relevant to your project.\n",
    "\n",
    "(2-3 paragraphs, including at least 2 references)"
   ]
  },
  {
   "cell_type": "markdown",
   "metadata": {},
   "source": [
    "Safety is probably one of, if not the most common question that gets asked in regards to choosing an area to live in. Safety from fire hazards, thieves or in our case: cars, can have a profound impact on whether or not people may choose to live in a location. It can be stated that the more likely it is for these events to occur, the less likely it is for someone to choose to live there. So in our analysis, we hope to find and compare different areas with each other in order to see which areas are more prone to accidents and to what kinds of accidents as well. \n",
    "\n",
    "Our hypothesis stems from the simple idea that the more \"city-like\" an area is, the more likely there are to be vehicle-related accidents within that same area. This is due to the belief that there are more vehicles operating at any given time in a city (such as NYC) than compared to a more urban like setting (like the Town of Cary, NC). Because there are more vehicles, we believe that the chances of an accident go exceptionally higher. Of course, we can also compare data within a single area to see which types of accidents are more common as well.\n",
    "\n",
    "References (include links):\n",
    "- 1) http://home.iitk.ac.in/~sanjay/patnastudy.pdf\n",
    "- 2) https://www.health.ny.gov/statistics/prevention/injury_prevention/traffic/county_of_residence.htm"
   ]
  },
  {
   "cell_type": "markdown",
   "metadata": {},
   "source": [
    "### Proposed Methods\n",
    "\n",
    "What methods will you use to analyze your data?\n",
    "\n",
    "- How 'clean' is the data? To the extent that it requires cleaning, how will you do so?\n",
    "- How will you analyze the data? Be as specific as you can. Briefly mention any pre-processing steps that are required for your methods (for example, checking data distributions and performing any transformations that may be required). Include a brief outline of how you will apply your chosen method(s). \n",
    "- What do you plan to report? Briefly mention any key visualizations you plan to create, and/or the kind of results you will be able to report that address your question (this could be, for example, the outcome of some statistical test(s), prediction error on a model, a model fit parameter, etc.).\n",
    "- Include a list of packages you expect to use for you project. If you plan to use packages we have not used in class, add a very brief description about them (a few words is sufficient). "
   ]
  },
  {
   "cell_type": "markdown",
   "metadata": {},
   "source": [
    "*Fill in your proposed methods information here:*\n",
    "\n",
    "*Data Cleaning (2-3 sentences)*\n",
    "The first dataset has some rows that contain empty data on area and type of car and other data fields, so we will remove those rows. In the second dataset, we need to remove rows that has empty data in a lot of fields. If the second dataset proves to contain too little data, we will change to another dataset.\n",
    "\n",
    "\n",
    "*Data Analysis (1-2 paragraphs)*\n",
    "We will be creating a dictionary for each reason for the car accident and perhaps more for other factor such as location or model of car. From there, we can look at it ourselves to determine if the data needs further cleaning or if it's perfectly fine for our use. An example of why cleaning would occur is that there may be misinputted data(such as a spelling error) that needs to be read differently that we may not catch while creating the dictionary. After doing so, we will begin the process of analyzing the data both internally and in comparison to other sets of data.\n",
    "\n",
    "The easiest idea that we can analyze is the frequency of accidents within certain areas by comparing these datasets with each other though we do have to take into account other factors such as population density. Another concept that we can explore are the most common types of accidents whether it being overall or within differenct locations.\n",
    "\n",
    "*What to report (2-3 sentences)*\n",
    "We plan to look into the correlation between how \"modern\" a location is and the amount of car accidents that happen there and see if we can discover a relationship there. Some key visualizations we plan to create include plots comparing the frequency of accidents between different areas as well as something that expresses the leading cause of accidents in the respective locations.\n",
    "\n",
    "Packages we plan to use:\n",
    "- pandas\n",
    "- numpy\n",
    "(more may be added as time goes on, but these are the two that we plan to use)"
   ]
  },
  {
   "cell_type": "markdown",
   "metadata": {},
   "source": [
    "### Ethics and Privacy\n",
    "\n",
    "Briefly acknowledge and address any potential issues of ethics and privacy for the proposed project. In particular:\n",
    "- Do you have permission to use this data, for this purpose?\n",
    "- Are there privacy concerns regarding your datasets that you need to deal with, and/or terms of use that you need to comply with?\n",
    "- Are there potential biases in your dataset(s), in terms of who it composes, and how it was collected, that may be problematic in terms of it allowing for equitable analysis? (For example, does your data exclude particular populations, or is it likely to reflect particular human biases in a way that could be a problem?) \n",
    "- Are there any other issues related to your topic area, data, and/or analyses that are potentially problematic in terms of data privacy and equitable impact?\n",
    "- How will you handle any issues you identify?\n",
    "\n",
    "(1-2 paragraphs)\n",
    "As this data is publicly available, we have permission to use this data for our purpose, provided that we follow the correct procedures to anonymize the data if it has not already been done. Although the data may be mostly unbiased since it was recorded by the government, there is a high probability that the data we use is not going to be complete as most data sets are. For example accidents could have occured and not be reported, and therefore would not be present in the dataset, which would potentially skew the results. Another possibility regarding ethics is that we may be putting labels on certain areas such as \"People in so and so are more likely to hit and run then in...\" which can be used to stereotype areas. One method we can use to handle this is to use the general groupings of our analysis instead of more specific names of locations."
   ]
  },
  {
   "cell_type": "markdown",
   "metadata": {},
   "source": [
    "### Discussion\n",
    "\n",
    "Discuss your project, looking forward to what your results might mean, how they fit it in with what is already known, and what problems you may encounter. \n",
    "\n",
    "In particular:\n",
    "- If your analyses and hypotheses are correct, what will be the contribution of this project to the topic domain? \n",
    "- Alternatively, what will you do if you methods don't work and/or your hypotheses are wrong? \n",
    "- What are the potential pitfalls and potential confounds of your data and/or methods that may cause problems, and/or influence your interpretations?\n",
    "\n",
    "(2-3 paragraphs)"
   ]
  },
  {
   "cell_type": "markdown",
   "metadata": {},
   "source": [
    "If our analyses and hypotheses are correct, our project will contribute to people trying to find new homes with regards to safety in automobile transportation. While our data represents 2 specific locations and their respective data, we can apply our analyses to many diverse populations. We can do this because, as stated before, an area that is more \"city-like\" correlates to greater population and, thus, a more likely chance for car accidents to occur.\n",
    "\n",
    "If our methods dont work or our hypotheses are wrong, we could either test multiple other datasets or fix our proposed methods in order to reduce the amount of skewed data that could potentially invalidate our hypotheses. By testing other datasets and locations, we can possibly eliminate potential confounds that a specific area has. Likewise, we may have to change our approach to certain methods (for example, data analysis) if they do not give the expected results we need for our hypotheses.\n",
    "\n",
    "A potential confound of our data that may cause problems for our interpretations is the ability/inability of the people in a certain region to drive. For example, we can have a region that has very few car crash incidents while having a large population size, potentially skewing our analyses from population density being the main factor that accidents occur to people's lack of driving skills. This is why it is important to choose regions with large diversity to get the most non-biased data we can for accurate results."
   ]
  }
 ],
 "metadata": {
  "kernelspec": {
   "display_name": "Python 3",
   "language": "python",
   "name": "python3"
  },
  "language_info": {
   "codemirror_mode": {
    "name": "ipython",
    "version": 3
   },
   "file_extension": ".py",
   "mimetype": "text/x-python",
   "name": "python",
   "nbconvert_exporter": "python",
   "pygments_lexer": "ipython3",
   "version": "3.6.3"
  }
 },
 "nbformat": 4,
 "nbformat_minor": 2
}
